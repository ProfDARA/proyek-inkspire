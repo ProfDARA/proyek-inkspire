{
 "cells": [
  {
   "cell_type": "code",
   "execution_count": 13,
   "id": "bef8d411",
   "metadata": {},
   "outputs": [
    {
     "data": {
      "text/html": [
       "<div>\n",
       "<style scoped>\n",
       "    .dataframe tbody tr th:only-of-type {\n",
       "        vertical-align: middle;\n",
       "    }\n",
       "\n",
       "    .dataframe tbody tr th {\n",
       "        vertical-align: top;\n",
       "    }\n",
       "\n",
       "    .dataframe thead th {\n",
       "        text-align: right;\n",
       "    }\n",
       "</style>\n",
       "<table border=\"1\" class=\"dataframe\">\n",
       "  <thead>\n",
       "    <tr style=\"text-align: right;\">\n",
       "      <th></th>\n",
       "      <th>s_id</th>\n",
       "      <th>sentence</th>\n",
       "      <th>word_count</th>\n",
       "      <th>avg_word_length</th>\n",
       "      <th>flesch_score</th>\n",
       "    </tr>\n",
       "  </thead>\n",
       "  <tbody>\n",
       "    <tr>\n",
       "      <th>0</th>\n",
       "      <td>1</td>\n",
       "      <td>Bila perlu ia juga dapat mengambil organ dari ...</td>\n",
       "      <td>11</td>\n",
       "      <td>4.45</td>\n",
       "      <td>70.05</td>\n",
       "    </tr>\n",
       "    <tr>\n",
       "      <th>1</th>\n",
       "      <td>2</td>\n",
       "      <td>Dia juga bilang bahwa ramuan ini juga pernah d...</td>\n",
       "      <td>17</td>\n",
       "      <td>5.18</td>\n",
       "      <td>43.60</td>\n",
       "    </tr>\n",
       "    <tr>\n",
       "      <th>2</th>\n",
       "      <td>3</td>\n",
       "      <td>Di siang hari ia tampak seperti manusia biasa,...</td>\n",
       "      <td>30</td>\n",
       "      <td>5.27</td>\n",
       "      <td>27.87</td>\n",
       "    </tr>\n",
       "    <tr>\n",
       "      <th>3</th>\n",
       "      <td>4</td>\n",
       "      <td>Jika kepala tersebut terpisah pada jangka wakt...</td>\n",
       "      <td>14</td>\n",
       "      <td>4.79</td>\n",
       "      <td>57.67</td>\n",
       "    </tr>\n",
       "    <tr>\n",
       "      <th>4</th>\n",
       "      <td>5</td>\n",
       "      <td>Kalo sudah bgt, korban tak akan kembali lagi k...</td>\n",
       "      <td>12</td>\n",
       "      <td>3.75</td>\n",
       "      <td>88.91</td>\n",
       "    </tr>\n",
       "  </tbody>\n",
       "</table>\n",
       "</div>"
      ],
      "text/plain": [
       "   s_id                                           sentence  word_count  \\\n",
       "0     1  Bila perlu ia juga dapat mengambil organ dari ...          11   \n",
       "1     2  Dia juga bilang bahwa ramuan ini juga pernah d...          17   \n",
       "2     3  Di siang hari ia tampak seperti manusia biasa,...          30   \n",
       "3     4  Jika kepala tersebut terpisah pada jangka wakt...          14   \n",
       "4     5  Kalo sudah bgt, korban tak akan kembali lagi k...          12   \n",
       "\n",
       "   avg_word_length  flesch_score  \n",
       "0             4.45         70.05  \n",
       "1             5.18         43.60  \n",
       "2             5.27         27.87  \n",
       "3             4.79         57.67  \n",
       "4             3.75         88.91  "
      ]
     },
     "execution_count": 13,
     "metadata": {},
     "output_type": "execute_result"
    }
   ],
   "source": [
    "import pandas as pd\n",
    "from sklearn.model_selection import train_test_split\n",
    "from sklearn.linear_model import LinearRegression\n",
    "from sklearn.metrics import mean_squared_error, r2_score\n",
    "\n",
    "df = pd.read_csv(\n",
    "    \"readability_scores100kword.csv\",\n",
    "    on_bad_lines=\"skip\"  # Abaikan baris bermasalah\n",
    ")\n",
    "# Menampilkan 5 baris pertama\n",
    "df.head()\n"
   ]
  },
  {
   "cell_type": "code",
   "execution_count": 14,
   "id": "9b22638a",
   "metadata": {},
   "outputs": [
    {
     "data": {
      "text/plain": [
       "s_id               0\n",
       "sentence           0\n",
       "word_count         0\n",
       "avg_word_length    0\n",
       "flesch_score       0\n",
       "dtype: int64"
      ]
     },
     "execution_count": 14,
     "metadata": {},
     "output_type": "execute_result"
    }
   ],
   "source": [
    "df.isna().sum()"
   ]
  },
  {
   "cell_type": "code",
   "execution_count": 16,
   "id": "b708000b",
   "metadata": {},
   "outputs": [
    {
     "name": "stdout",
     "output_type": "stream",
     "text": [
      "MSE: 0.005733868962991693\n",
      "R²: 0.9999902275572128\n",
      "Koefisien: [ -1.01529796 -28.20058629]\n",
      "Intercept: 206.85036992207085\n"
     ]
    }
   ],
   "source": [
    "# Contoh data\n",
    "df = pd.read_csv(\"readability_scores100kword.csv\", on_bad_lines=\"skip\")\n",
    "\n",
    "# Fitur dan target\n",
    "X = df[[\"word_count\", \"avg_word_length\"]]\n",
    "y = df[\"flesch_score\"]\n",
    "\n",
    "# Split train-test\n",
    "X_train, X_test, y_train, y_test = train_test_split(X, y, test_size=0.2, random_state=42)\n",
    "\n",
    "# Model baseline\n",
    "model = LinearRegression()\n",
    "model.fit(X_train, y_train)\n",
    "\n",
    "# Prediksi\n",
    "y_pred = model.predict(X_test)\n",
    "\n",
    "# Evaluasi\n",
    "print(\"MSE:\", mean_squared_error(y_test, y_pred))\n",
    "print(\"R²:\", r2_score(y_test, y_pred))\n",
    "print(\"Koefisien:\", model.coef_)\n",
    "print(\"Intercept:\", model.intercept_)\n"
   ]
  },
  {
   "cell_type": "code",
   "execution_count": 18,
   "id": "447315ef",
   "metadata": {},
   "outputs": [
    {
     "name": "stdout",
     "output_type": "stream",
     "text": [
      "Model disimpan sebagai 'readability_model.pkl'\n"
     ]
    }
   ],
   "source": [
    "# 1Simpan model ke file\n",
    "import joblib\n",
    "\n",
    "# Asumsikan variabel model adalah LinearRegression yang sudah dilatih\n",
    "joblib.dump(model, \"readability_model.pkl\")\n",
    "print(\"Model disimpan sebagai 'readability_model.pkl'\")"
   ]
  },
  {
   "cell_type": "code",
   "execution_count": 22,
   "id": "1bf0e8a9",
   "metadata": {},
   "outputs": [
    {
     "name": "stdout",
     "output_type": "stream",
     "text": [
      "Prediksi skor keterbacaan: 132.29\n"
     ]
    },
    {
     "name": "stderr",
     "output_type": "stream",
     "text": [
      "C:\\Users\\Danang ARA\\AppData\\Roaming\\Python\\Python313\\site-packages\\sklearn\\utils\\validation.py:2739: UserWarning: X does not have valid feature names, but LinearRegression was fitted with feature names\n",
      "  warnings.warn(\n"
     ]
    }
   ],
   "source": [
    "# Program cek skor readability dari input teks\n",
    "import re\n",
    "\n",
    "# Fungsi untuk menghitung jumlah kata, kalimat, dan suku kata\n",
    "def count_syllables(word):\n",
    "    word = word.lower()\n",
    "    syllables = re.findall(r'[aeiouy]+', word)\n",
    "    return max(1, len(syllables))\n",
    "\n",
    "def text_stats(text):\n",
    "    sentences = re.split(r'[.!?]+', text)\n",
    "    sentences = [s.strip() for s in sentences if s.strip()]\n",
    "    words = re.findall(r'\\w+', text)\n",
    "    syllables = sum(count_syllables(w) for w in words)\n",
    "    return {\n",
    "        \"words\": len(words),\n",
    "        \"sentences\": len(sentences),\n",
    "        \"syllables\": syllables\n",
    "    }\n",
    "\n",
    "# Load model dan cek skor\n",
    "model = joblib.load(\"readability_model.pkl\")\n",
    "\n",
    "text = input(\"Masukkan teks: \")\n",
    "stats = text_stats(text)\n",
    "\n",
    "# Hitung features: Words per Sentence & Syllables per Word\n",
    "wps = stats[\"words\"] / stats[\"sentences\"]\n",
    "spw = stats[\"syllables\"] / stats[\"words\"]\n",
    "\n",
    "predicted_score = model.predict([[wps, spw]])[0]\n",
    "print(f\"Prediksi skor keterbacaan: {predicted_score:.2f}\")"
   ]
  }
 ],
 "metadata": {
  "kernelspec": {
   "display_name": "Python 3",
   "language": "python",
   "name": "python3"
  },
  "language_info": {
   "codemirror_mode": {
    "name": "ipython",
    "version": 3
   },
   "file_extension": ".py",
   "mimetype": "text/x-python",
   "name": "python",
   "nbconvert_exporter": "python",
   "pygments_lexer": "ipython3",
   "version": "3.13.1"
  }
 },
 "nbformat": 4,
 "nbformat_minor": 5
}
